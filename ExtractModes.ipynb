{
 "cells": [
  {
   "cell_type": "code",
   "execution_count": 6,
   "id": "87b4f34e",
   "metadata": {},
   "outputs": [
    {
     "name": "stdout",
     "output_type": "stream",
     "text": [
      "['/home/jordivilla/GitHub/Thesisscripts', '/usr/lib/python310.zip', '/usr/lib/python3.10', '/usr/lib/python3.10/lib-dynload', '', '/usr/local/lib/python3.10/dist-packages', '/usr/lib/python3/dist-packages', '/usr/lib/python3.10/dist-packages', '/usr/lib/python3/dist-packages/IPython/extensions', '/home/jordivilla/.ipython']\n"
     ]
    }
   ],
   "source": [
    "import sys\n",
    "print(sys.path)"
   ]
  },
  {
   "cell_type": "code",
   "execution_count": 1,
   "id": "d0822bb6",
   "metadata": {},
   "outputs": [],
   "source": [
    "class Atom(dict):\n",
    "    def __init__(self, line):\n",
    "        self[\"type\"] = line[0:6].strip()\n",
    "        self[\"idx\"] = line[6:11].strip()\n",
    "        self[\"name\"] = line[12:16].strip()\n",
    "        self[\"resname\"] = line[17:20].strip()\n",
    "        self[\"resid\"] = int(int(line[22:26]))\n",
    "        self[\"x\"] = float(line[30:38])\n",
    "        self[\"y\"] = float(line[38:46])\n",
    "        self[\"z\"] = float(line[46:54])\n",
    "        self[\"sym\"] = line[76:78].strip()\n",
    "\n",
    "    def __str__(self):\n",
    "        line = list(\" \" * 80)\n",
    "\n",
    "        line[0:6] = self[\"type\"].ljust(6)\n",
    "        line[6:11] = self[\"idx\"].ljust(5)\n",
    "        line[12:16] = self[\"name\"].ljust(4)\n",
    "        line[17:20] = self[\"resname\"].ljust(3)\n",
    "        line[22:26] = str(self[\"resid\"]).ljust(4)\n",
    "        line[30:38] = str(self[\"x\"]).rjust(8)\n",
    "        line[38:46] = str(self[\"y\"]).rjust(8)\n",
    "        line[46:54] = str(self[\"z\"]).rjust(8)\n",
    "        line[76:78] = self[\"sym\"].rjust(2)\n",
    "        return \"\".join(line) + \"\\n\""
   ]
  },
  {
   "cell_type": "code",
   "execution_count": 2,
   "id": "95eba593",
   "metadata": {},
   "outputs": [],
   "source": [
    "class Molecule(list):\n",
    "    def __init__(self, file):\n",
    "        for line in file:\n",
    "            if \"ATOM\" in line or \"HETATM\" in line:\n",
    "                self.append(Atom(line))\n",
    "\n",
    "    def __str__(self):\n",
    "        outstr = \"\"\n",
    "        for at in self:\n",
    "            outstr += str(at)\n",
    "\n",
    "        return outstr"
   ]
  },
  {
   "cell_type": "code",
   "execution_count": 5,
   "id": "649455c9",
   "metadata": {},
   "outputs": [
    {
     "ename": "ValueError",
     "evalue": "invalid literal for int() with base 10: ''",
     "output_type": "error",
     "traceback": [
      "\u001b[0;31m---------------------------------------------------------------------------\u001b[0m",
      "\u001b[0;31mValueError\u001b[0m                                Traceback (most recent call last)",
      "Input \u001b[0;32mIn [5]\u001b[0m, in \u001b[0;36m<cell line: 1>\u001b[0;34m()\u001b[0m\n\u001b[1;32m      1\u001b[0m \u001b[38;5;28;01mwith\u001b[39;00m \u001b[38;5;28mopen\u001b[39m(\u001b[38;5;124m\"\u001b[39m\u001b[38;5;124mexamples/H2Ofreq.dat\u001b[39m\u001b[38;5;124m\"\u001b[39m) \u001b[38;5;28;01mas\u001b[39;00m ifile:\n\u001b[0;32m----> 2\u001b[0m     mol \u001b[38;5;241m=\u001b[39m \u001b[43mMolecule\u001b[49m\u001b[43m(\u001b[49m\u001b[43mifile\u001b[49m\u001b[43m)\u001b[49m\n",
      "Input \u001b[0;32mIn [2]\u001b[0m, in \u001b[0;36mMolecule.__init__\u001b[0;34m(self, file)\u001b[0m\n\u001b[1;32m      3\u001b[0m \u001b[38;5;28;01mfor\u001b[39;00m line \u001b[38;5;129;01min\u001b[39;00m file:\n\u001b[1;32m      4\u001b[0m     \u001b[38;5;28;01mif\u001b[39;00m \u001b[38;5;124m\"\u001b[39m\u001b[38;5;124mATOM\u001b[39m\u001b[38;5;124m\"\u001b[39m \u001b[38;5;129;01min\u001b[39;00m line \u001b[38;5;129;01mor\u001b[39;00m \u001b[38;5;124m\"\u001b[39m\u001b[38;5;124mHETATM\u001b[39m\u001b[38;5;124m\"\u001b[39m \u001b[38;5;129;01min\u001b[39;00m line:\n\u001b[0;32m----> 5\u001b[0m         \u001b[38;5;28mself\u001b[39m\u001b[38;5;241m.\u001b[39mappend(\u001b[43mAtom\u001b[49m\u001b[43m(\u001b[49m\u001b[43mline\u001b[49m\u001b[43m)\u001b[49m)\n",
      "Input \u001b[0;32mIn [1]\u001b[0m, in \u001b[0;36mAtom.__init__\u001b[0;34m(self, line)\u001b[0m\n\u001b[1;32m      5\u001b[0m \u001b[38;5;28mself\u001b[39m[\u001b[38;5;124m\"\u001b[39m\u001b[38;5;124mname\u001b[39m\u001b[38;5;124m\"\u001b[39m] \u001b[38;5;241m=\u001b[39m line[\u001b[38;5;241m12\u001b[39m:\u001b[38;5;241m16\u001b[39m]\u001b[38;5;241m.\u001b[39mstrip()\n\u001b[1;32m      6\u001b[0m \u001b[38;5;28mself\u001b[39m[\u001b[38;5;124m\"\u001b[39m\u001b[38;5;124mresname\u001b[39m\u001b[38;5;124m\"\u001b[39m] \u001b[38;5;241m=\u001b[39m line[\u001b[38;5;241m17\u001b[39m:\u001b[38;5;241m20\u001b[39m]\u001b[38;5;241m.\u001b[39mstrip()\n\u001b[0;32m----> 7\u001b[0m \u001b[38;5;28mself\u001b[39m[\u001b[38;5;124m\"\u001b[39m\u001b[38;5;124mresid\u001b[39m\u001b[38;5;124m\"\u001b[39m] \u001b[38;5;241m=\u001b[39m \u001b[38;5;28mint\u001b[39m(\u001b[38;5;28;43mint\u001b[39;49m\u001b[43m(\u001b[49m\u001b[43mline\u001b[49m\u001b[43m[\u001b[49m\u001b[38;5;241;43m22\u001b[39;49m\u001b[43m:\u001b[49m\u001b[38;5;241;43m26\u001b[39;49m\u001b[43m]\u001b[49m\u001b[43m)\u001b[49m)\n\u001b[1;32m      8\u001b[0m \u001b[38;5;28mself\u001b[39m[\u001b[38;5;124m\"\u001b[39m\u001b[38;5;124mx\u001b[39m\u001b[38;5;124m\"\u001b[39m] \u001b[38;5;241m=\u001b[39m \u001b[38;5;28mfloat\u001b[39m(line[\u001b[38;5;241m30\u001b[39m:\u001b[38;5;241m38\u001b[39m])\n\u001b[1;32m      9\u001b[0m \u001b[38;5;28mself\u001b[39m[\u001b[38;5;124m\"\u001b[39m\u001b[38;5;124my\u001b[39m\u001b[38;5;124m\"\u001b[39m] \u001b[38;5;241m=\u001b[39m \u001b[38;5;28mfloat\u001b[39m(line[\u001b[38;5;241m38\u001b[39m:\u001b[38;5;241m46\u001b[39m])\n",
      "\u001b[0;31mValueError\u001b[0m: invalid literal for int() with base 10: ''"
     ]
    }
   ],
   "source": [
    "with open(\"examples/H2Ofreq.dat\") as ifile:\n",
    "    mol = Molecule(ifile)"
   ]
  },
  {
   "cell_type": "code",
   "execution_count": 1,
   "id": "3e1ebf7b",
   "metadata": {},
   "outputs": [
    {
     "data": {
      "application/3dmoljs_load.v0": "<div id=\"3dmolviewer_16667003470898318\"  style=\"position: relative; width: 640px; height: 480px\">\n        <p id=\"3dmolwarning_16667003470898318\" style=\"background-color:#ffcccc;color:black\">You appear to be running in JupyterLab (or JavaScript failed to load for some other reason).  You need to install the 3dmol extension: <br>\n        <tt>jupyter labextension install jupyterlab_3dmol</tt></p>\n        </div>\n<script>\n\nvar loadScriptAsync = function(uri){\n  return new Promise((resolve, reject) => {\n    var tag = document.createElement('script');\n    tag.src = uri;\n    tag.async = true;\n    tag.onload = () => {\n      resolve();\n    };\n  var firstScriptTag = document.getElementsByTagName('script')[0];\n  firstScriptTag.parentNode.insertBefore(tag, firstScriptTag);\n});\n};\n\nif(typeof $3Dmolpromise === 'undefined') {\n$3Dmolpromise = null;\n  $3Dmolpromise = loadScriptAsync('https://cdn.jsdelivr.net/npm/3dmol@latest/build/3Dmol-min.min.js');\n}\n\nvar viewer_16667003470898318 = null;\nvar warn = document.getElementById(\"3dmolwarning_16667003470898318\");\nif(warn) {\n    warn.parentNode.removeChild(warn);\n}\n$3Dmolpromise.then(function() {\nviewer_16667003470898318 = $3Dmol.createViewer($(\"#3dmolviewer_16667003470898318\"),{backgroundColor:\"white\"});\n$3Dmol.download(\"pdb:1hvr\", viewer_16667003470898318, {}, function() {\nviewer_16667003470898318.zoomTo();\n\tviewer_16667003470898318.setStyle({\"cartoon\": {\"color\": \"spectrum\"}});\nviewer_16667003470898318.render();\n})\n});\n</script>",
      "text/html": [
       "<div id=\"3dmolviewer_16667003470898318\"  style=\"position: relative; width: 640px; height: 480px\">\n",
       "        <p id=\"3dmolwarning_16667003470898318\" style=\"background-color:#ffcccc;color:black\">You appear to be running in JupyterLab (or JavaScript failed to load for some other reason).  You need to install the 3dmol extension: <br>\n",
       "        <tt>jupyter labextension install jupyterlab_3dmol</tt></p>\n",
       "        </div>\n",
       "<script>\n",
       "\n",
       "var loadScriptAsync = function(uri){\n",
       "  return new Promise((resolve, reject) => {\n",
       "    var tag = document.createElement('script');\n",
       "    tag.src = uri;\n",
       "    tag.async = true;\n",
       "    tag.onload = () => {\n",
       "      resolve();\n",
       "    };\n",
       "  var firstScriptTag = document.getElementsByTagName('script')[0];\n",
       "  firstScriptTag.parentNode.insertBefore(tag, firstScriptTag);\n",
       "});\n",
       "};\n",
       "\n",
       "if(typeof $3Dmolpromise === 'undefined') {\n",
       "$3Dmolpromise = null;\n",
       "  $3Dmolpromise = loadScriptAsync('https://cdn.jsdelivr.net/npm/3dmol@latest/build/3Dmol-min.min.js');\n",
       "}\n",
       "\n",
       "var viewer_16667003470898318 = null;\n",
       "var warn = document.getElementById(\"3dmolwarning_16667003470898318\");\n",
       "if(warn) {\n",
       "    warn.parentNode.removeChild(warn);\n",
       "}\n",
       "$3Dmolpromise.then(function() {\n",
       "viewer_16667003470898318 = $3Dmol.createViewer($(\"#3dmolviewer_16667003470898318\"),{backgroundColor:\"white\"});\n",
       "$3Dmol.download(\"pdb:1hvr\", viewer_16667003470898318, {}, function() {\n",
       "viewer_16667003470898318.zoomTo();\n",
       "\tviewer_16667003470898318.setStyle({\"cartoon\": {\"color\": \"spectrum\"}});\n",
       "viewer_16667003470898318.render();\n",
       "})\n",
       "});\n",
       "</script>"
      ]
     },
     "metadata": {},
     "output_type": "display_data"
    },
    {
     "data": {
      "text/plain": [
       "<py3Dmol.view at 0x7fe71c042b80>"
      ]
     },
     "execution_count": 1,
     "metadata": {},
     "output_type": "execute_result"
    }
   ],
   "source": [
    "import py3Dmol\n",
    "view = py3Dmol.view(query='pdb:1hvr')\n",
    "view.setStyle({'cartoon':{'color':'spectrum'}})\n",
    "view"
   ]
  },
  {
   "cell_type": "code",
   "execution_count": null,
   "id": "8db79911",
   "metadata": {},
   "outputs": [],
   "source": []
  }
 ],
 "metadata": {
  "kernelspec": {
   "display_name": "Python 3",
   "language": "python",
   "name": "python3"
  },
  "language_info": {
   "codemirror_mode": {
    "name": "ipython",
    "version": 3
   },
   "file_extension": ".py",
   "mimetype": "text/x-python",
   "name": "python",
   "nbconvert_exporter": "python",
   "pygments_lexer": "ipython3",
   "version": "3.9.12"
  },
  "vscode": {
   "interpreter": {
    "hash": "916dbcbb3f70747c44a77c7bcd40155683ae19c65e1c03b4aa3499c5328201f1"
   }
  }
 },
 "nbformat": 4,
 "nbformat_minor": 5
}
