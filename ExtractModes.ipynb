{
 "cells": [
  {
   "cell_type": "code",
   "execution_count": 8,
   "id": "87b4f34e",
   "metadata": {},
   "outputs": [
    {
     "name": "stdout",
     "output_type": "stream",
     "text": [
      "['/home/nayanika/github/Thesisscripts/Thesisscripts', '/home/nayanika/github/qtools/packages', '/home/nayanika/github/Thesisscripts/Thesisscripts', '/usr/lib/python38.zip', '/usr/lib/python3.8', '/usr/lib/python3.8/lib-dynload', '', '/home/nayanika/.local/lib/python3.8/site-packages', '/usr/local/lib/python3.8/dist-packages', '/usr/lib/python3/dist-packages']\n"
     ]
    }
   ],
   "source": [
    "import sys\n",
    "print(sys.path)"
   ]
  },
  {
   "cell_type": "code",
   "execution_count": 9,
   "id": "d0822bb6",
   "metadata": {},
   "outputs": [],
   "source": [
    "class Atom(dict):\n",
    "    def __init__(self, line):\n",
    "        self[\"type\"] = line[0:6].strip()\n",
    "        self[\"idx\"] = line[6:11].strip()\n",
    "        self[\"name\"] = line[12:16].strip()\n",
    "        self[\"resname\"] = line[17:20].strip()\n",
    "        self[\"resid\"] = int(int(line[22:26]))\n",
    "        self[\"x\"] = float(line[30:38])\n",
    "        self[\"y\"] = float(line[38:46])\n",
    "        self[\"z\"] = float(line[46:54])\n",
    "        self[\"sym\"] = line[76:78].strip()\n",
    "\n",
    "    def __str__(self):\n",
    "        line = list(\" \" * 80)\n",
    "\n",
    "        line[0:6] = self[\"type\"].ljust(6)\n",
    "        line[6:11] = self[\"idx\"].ljust(5)\n",
    "        line[12:16] = self[\"name\"].ljust(4)\n",
    "        line[17:20] = self[\"resname\"].ljust(3)\n",
    "        line[22:26] = str(self[\"resid\"]).ljust(4)\n",
    "        line[30:38] = str(self[\"x\"]).rjust(8)\n",
    "        line[38:46] = str(self[\"y\"]).rjust(8)\n",
    "        line[46:54] = str(self[\"z\"]).rjust(8)\n",
    "        line[76:78] = self[\"sym\"].rjust(2)\n",
    "        return \"\".join(line) + \"\\n\""
   ]
  },
  {
   "cell_type": "code",
   "execution_count": 10,
   "id": "95eba593",
   "metadata": {},
   "outputs": [],
   "source": [
    "class Molecule(list):\n",
    "    def __init__(self, file):\n",
    "        for line in file:\n",
    "            if \"ATOM\" in line or \"HETATM\" in line:\n",
    "                self.append(Atom(line))\n",
    "\n",
    "    def __str__(self):\n",
    "        outstr = \"\"\n",
    "        for at in self:\n",
    "            outstr += str(at)\n",
    "\n",
    "        return outstr"
   ]
  },
  {
   "cell_type": "code",
   "execution_count": null,
   "id": "649455c9",
   "metadata": {},
   "outputs": [],
   "source": [
    "fh = open('examples/H2Ofreq.dat', 'r')\n",
    "all_lines = fh.readlines()\n",
    "fh.close()\n",
    "fho = open('output/H2Ofreq.xyz','w')\n",
    "gap=4\n",
    "for count, line in enumerate(all_lines):\n",
    "    if \"NATOMS=\" in line:\n",
    "        natoms=int(line.split()[1])\n",
    "        atomcoords=all_lines[count+gap:count+gap+natoms]\n",
    "print(all_lines)\n",
    "fho.write(str(natoms)+'\\n')\n",
    "fho.write('Initial coordinates\\n')\n",
    "for atom in atomcoords:\n",
    "    fho.write(atom)\n",
    "fho.close()\n",
    "\n",
    "#with open(\"examples/H2Ofreq.dat\") as ifile:\n",
    "#    mol = Molecule(ifile)"
   ]
  },
  {
   "cell_type": "code",
   "execution_count": 4,
   "id": "3e1ebf7b",
   "metadata": {},
   "outputs": [
    {
     "name": "stdout",
     "output_type": "stream",
     "text": [
      "<py3Dmol.view object at 0x7f8200934fd0>\n"
     ]
    },
    {
     "data": {
      "application/3dmoljs_load.v0": "<div id=\"3dmolviewer_16668640334547215\"  style=\"position: relative; width: 640px; height: 480px\">\n        <p id=\"3dmolwarning_16668640334547215\" style=\"background-color:#ffcccc;color:black\">You appear to be running in JupyterLab (or JavaScript failed to load for some other reason).  You need to install the 3dmol extension: <br>\n        <tt>jupyter labextension install jupyterlab_3dmol</tt></p>\n        </div>\n<script>\n\nvar loadScriptAsync = function(uri){\n  return new Promise((resolve, reject) => {\n    var tag = document.createElement('script');\n    tag.src = uri;\n    tag.async = true;\n    tag.onload = () => {\n      resolve();\n    };\n  var firstScriptTag = document.getElementsByTagName('script')[0];\n  firstScriptTag.parentNode.insertBefore(tag, firstScriptTag);\n});\n};\n\nif(typeof $3Dmolpromise === 'undefined') {\n$3Dmolpromise = null;\n  $3Dmolpromise = loadScriptAsync('https://cdn.jsdelivr.net/npm/3dmol@latest/build/3Dmol-min.min.js');\n}\n\nvar viewer_16668640334547215 = null;\nvar warn = document.getElementById(\"3dmolwarning_16668640334547215\");\nif(warn) {\n    warn.parentNode.removeChild(warn);\n}\n$3Dmolpromise.then(function() {\nviewer_16668640334547215 = $3Dmol.createViewer($(\"#3dmolviewer_16668640334547215\"),{backgroundColor:\"white\"});\n$3Dmol.download(\"xyz:examples/H2Ofreq.xyz\", viewer_16668640334547215, {}, function() {\nviewer_16668640334547215.zoomTo();\n\tviewer_16668640334547215.setStyle({\"sphere\": {\"color\": \"black\"}});\nviewer_16668640334547215.render();\n})\n});\n</script>",
      "text/html": [
       "<div id=\"3dmolviewer_16668640334547215\"  style=\"position: relative; width: 640px; height: 480px\">\n",
       "        <p id=\"3dmolwarning_16668640334547215\" style=\"background-color:#ffcccc;color:black\">You appear to be running in JupyterLab (or JavaScript failed to load for some other reason).  You need to install the 3dmol extension: <br>\n",
       "        <tt>jupyter labextension install jupyterlab_3dmol</tt></p>\n",
       "        </div>\n",
       "<script>\n",
       "\n",
       "var loadScriptAsync = function(uri){\n",
       "  return new Promise((resolve, reject) => {\n",
       "    var tag = document.createElement('script');\n",
       "    tag.src = uri;\n",
       "    tag.async = true;\n",
       "    tag.onload = () => {\n",
       "      resolve();\n",
       "    };\n",
       "  var firstScriptTag = document.getElementsByTagName('script')[0];\n",
       "  firstScriptTag.parentNode.insertBefore(tag, firstScriptTag);\n",
       "});\n",
       "};\n",
       "\n",
       "if(typeof $3Dmolpromise === 'undefined') {\n",
       "$3Dmolpromise = null;\n",
       "  $3Dmolpromise = loadScriptAsync('https://cdn.jsdelivr.net/npm/3dmol@latest/build/3Dmol-min.min.js');\n",
       "}\n",
       "\n",
       "var viewer_16668640334547215 = null;\n",
       "var warn = document.getElementById(\"3dmolwarning_16668640334547215\");\n",
       "if(warn) {\n",
       "    warn.parentNode.removeChild(warn);\n",
       "}\n",
       "$3Dmolpromise.then(function() {\n",
       "viewer_16668640334547215 = $3Dmol.createViewer($(\"#3dmolviewer_16668640334547215\"),{backgroundColor:\"white\"});\n",
       "$3Dmol.download(\"xyz:examples/H2Ofreq.xyz\", viewer_16668640334547215, {}, function() {\n",
       "viewer_16668640334547215.zoomTo();\n",
       "\tviewer_16668640334547215.setStyle({\"sphere\": {\"color\": \"black\"}});\n",
       "viewer_16668640334547215.render();\n",
       "})\n",
       "});\n",
       "</script>"
      ]
     },
     "metadata": {},
     "output_type": "display_data"
    }
   ],
   "source": [
    "import py3Dmol\n",
    "view = py3Dmol.view('xyz:examples/H2Ofreq.xyz')\n",
    "print(view)\n",
    "view.setStyle({'sphere':{'color':'black'}})\n",
    "view.show()\n"
   ]
  },
  {
   "cell_type": "code",
   "execution_count": null,
   "id": "8db79911",
   "metadata": {},
   "outputs": [],
   "source": []
  }
 ],
 "metadata": {
  "kernelspec": {
   "display_name": "Python 3",
   "language": "python",
   "name": "python3"
  },
  "language_info": {
   "codemirror_mode": {
    "name": "ipython",
    "version": 3
   },
   "file_extension": ".py",
   "mimetype": "text/x-python",
   "name": "python",
   "nbconvert_exporter": "python",
   "pygments_lexer": "ipython3",
   "version": "3.8.10"
  },
  "vscode": {
   "interpreter": {
    "hash": "916dbcbb3f70747c44a77c7bcd40155683ae19c65e1c03b4aa3499c5328201f1"
   }
  }
 },
 "nbformat": 4,
 "nbformat_minor": 5
}
