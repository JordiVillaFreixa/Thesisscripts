{
 "cells": [
  {
   "cell_type": "code",
   "execution_count": 1,
   "metadata": {},
   "outputs": [
    {
     "name": "stdout",
     "output_type": "stream",
     "text": [
      "9 AAAAQSVY\n",
      "  |..|.|.|\n",
      "2 AFIAKSFY\n",
      "  Score=16\n",
      "\n"
     ]
    }
   ],
   "source": [
    "from Bio import pairwise2\n",
    "from Bio.Align import substitution_matrices\n",
    "blosum62 = substitution_matrices.load(\"BLOSUM62\")\n",
    "alignments = pairwise2.align.localds(\"MCAARLAAAAAAQSVYA\", \"MAFIAKSFYDLSAI\", blosum62, -10, -1)\n",
    "print(pairwise2.format_alignment(*alignments[0]))"
   ]
  },
  {
   "cell_type": "code",
   "execution_count": 4,
   "metadata": {},
   "outputs": [
    {
     "data": {
      "text/plain": [
       "2"
      ]
     },
     "execution_count": 4,
     "metadata": {},
     "output_type": "execute_result"
    }
   ],
   "source": [
    "from Bio.Align import PairwiseAligner\n",
    "aligner = PairwiseAligner()\n",
    "aligner.mode = 'local'\n",
    "aligner.match_score = 2\n",
    "aligner.mismatch_score = -3\n",
    "aligner.open_gap_score = -7\n",
    "aligner.extend_gap_score = -2\n",
    "from Bio import SeqIO\n",
    "sequence1 = SeqIO.read('gpx1.faa', 'fasta')\n",
    "sequence2 = SeqIO.read('gpx2.faa', 'fasta')\n",
    "alignments = aligner.align(sequence1.seq, sequence2.seq)\n",
    "len(alignments)\n"
   ]
  },
  {
   "cell_type": "code",
   "execution_count": 7,
   "metadata": {},
   "outputs": [
    {
     "name": "stdout",
     "output_type": "stream",
     "text": [
      "    A   C   G   T\n",
      "A nan nan nan nan\n",
      "C nan nan nan nan\n",
      "G nan nan nan nan\n",
      "T nan nan nan nan\n",
      "\n"
     ]
    }
   ],
   "source": [
    "import numpy\n",
    "probabilities = frequency / numpy.sum(frequency)\n",
    "probabilities = (probabilities + probabilities.transpose()) / 2.0\n",
    "print(probabilities.format(\"%.4f\"))"
   ]
  },
  {
   "cell_type": "code",
   "execution_count": 40,
   "metadata": {},
   "outputs": [
    {
     "data": {
      "text/plain": [
       "1"
      ]
     },
     "execution_count": 40,
     "metadata": {},
     "output_type": "execute_result"
    }
   ],
   "source": []
  }
 ],
 "metadata": {
  "kernelspec": {
   "display_name": "Python 3.8.10 64-bit",
   "language": "python",
   "name": "python3"
  },
  "language_info": {
   "codemirror_mode": {
    "name": "ipython",
    "version": 3
   },
   "file_extension": ".py",
   "mimetype": "text/x-python",
   "name": "python",
   "nbconvert_exporter": "python",
   "pygments_lexer": "ipython3",
   "version": "3.8.10"
  },
  "orig_nbformat": 4,
  "vscode": {
   "interpreter": {
    "hash": "916dbcbb3f70747c44a77c7bcd40155683ae19c65e1c03b4aa3499c5328201f1"
   }
  }
 },
 "nbformat": 4,
 "nbformat_minor": 2
}
