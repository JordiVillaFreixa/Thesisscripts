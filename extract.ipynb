{
 "cells": [
  {
   "cell_type": "code",
   "execution_count": null,
   "metadata": {},
   "outputs": [],
   "source": [
    "import urllib\n",
    "from bs4 import BeautifulSoup\n",
    "\n",
    "def get_uniprot (query='',query_type='PDB_ID'):\n",
    "    #query_type must be: \"PDB_ID\" or \"ACC\"\n",
    "    url = 'https://www.uniprot.org/uploadlists/' #This is the webser to retrieve the Uniprot data\n",
    "    params = {\n",
    "    'from':query_type,\n",
    "    'to':'ACC',\n",
    "    'format':'txt',\n",
    "    'query':query\n",
    "    }\n",
    "\n",
    "    data = urllib.parse.urlencode(params)\n",
    "    data = data.encode('ascii')\n",
    "    request = urllib.request.Request(url, data)\n",
    "    with urllib.request.urlopen(request) as response:\n",
    "        res = response.read()\n",
    "        page=BeautifulSoup(res).get_text()\n",
    "        page=page.splitlines()\n",
    "    return page\n",
    "\n",
    "#creating a table with the columns Uniprot_entry\tOrganism\tPDB \tGO_process\tGO_funtion \n",
    "\n",
    "import pandas as pd\n",
    "prots=['P40926','O43175','Q9UM73']\n",
    "table=pd.DataFrame()\n",
    "for index,entry in enumerate('prots'):\n",
    "    pdbs=[]\n",
    "    funtions=[]\n",
    "    process=[]\n",
    "    organism=[]\n",
    "    data=get_uniprot(query=entry,query_type='ACC')\n",
    "    table.loc[index,'Uniprot_entry']=entry\n"
   ]
  },
  {
   "cell_type": "code",
   "execution_count": null,
   "metadata": {},
   "outputs": [],
   "source": [
    "#gives the info in the file glutathione.faa - gpx in all species from uniprot\n",
    "from Bio import SeqIO\n",
    "\n",
    "for index, record in enumerate(SeqIO.parse(\"glutathione.faa\", \"fasta\")):\n",
    "    print(\n",
    "        \"index %i, ID = %s, length %i, with %i features\"\n",
    "        % (index, record.id, len(record.seq), len(record.features))\n",
    "    )\n",
    "print(record)\n",
    "dir(record)\n",
    "record.seq\n",
    "Seq('MSLGRLCRLLKPALLCGALAAPGLAGTMCASRDDWRCARSMHEFSAKDIDGHMVNLDKYRGFVCIVTNVASQUGKTEVNYTQLVDLHARYAECGLRILAFPCNQFGKQEPGSNEEIKEFAAGYNVKFDMFSKICVNGDDAHPLWKWMKIQPKGKGILGNAIKWNFTKFLIDKNGCVVKRYGPMEEPLVIEKDLPHYF')\n",
    "type(record.seq)\n",
    "print(record.id)\n",
    "print(record.annotations)\n",
    "print(record.format(\"fasta\"))"
   ]
  },
  {
   "cell_type": "code",
   "execution_count": null,
   "metadata": {},
   "outputs": [],
   "source": []
  }
 ],
 "metadata": {
  "kernelspec": {
   "display_name": "Python 3.8.10 64-bit",
   "language": "python",
   "name": "python3"
  },
  "language_info": {
   "codemirror_mode": {
    "name": "ipython",
    "version": 3
   },
   "file_extension": ".py",
   "mimetype": "text/x-python",
   "name": "python",
   "nbconvert_exporter": "python",
   "pygments_lexer": "ipython3",
   "version": "3.8.10"
  },
  "orig_nbformat": 4,
  "vscode": {
   "interpreter": {
    "hash": "916dbcbb3f70747c44a77c7bcd40155683ae19c65e1c03b4aa3499c5328201f1"
   }
  }
 },
 "nbformat": 4,
 "nbformat_minor": 2
}
