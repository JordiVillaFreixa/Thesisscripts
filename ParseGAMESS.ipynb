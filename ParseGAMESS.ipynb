{
 "cells": [
  {
   "cell_type": "code",
   "execution_count": 6,
   "id": "87b4f34e",
   "metadata": {},
   "outputs": [
    {
     "name": "stdout",
     "output_type": "stream",
     "text": [
      "['/home/jordivilla/GitHub/Thesisscripts', '/usr/lib/python310.zip', '/usr/lib/python3.10', '/usr/lib/python3.10/lib-dynload', '', '/usr/local/lib/python3.10/dist-packages', '/usr/lib/python3/dist-packages', '/usr/lib/python3.10/dist-packages', '/usr/lib/python3/dist-packages/IPython/extensions', '/home/jordivilla/.ipython']\n"
     ]
    }
   ],
   "source": [
    "import sys\n",
    "print(sys.path)"
   ]
  },
  {
   "cell_type": "code",
   "execution_count": 3,
   "id": "6c64bc11",
   "metadata": {},
   "outputs": [
    {
     "name": "stdout",
     "output_type": "stream",
     "text": [
      "[0, 1, 2, 3, 4, 5, 6, 7, 8, 9] [-150.7561719676, -150.7640457851, -150.7615203331, -150.7643047432, -150.764281916, -150.7647330923, -150.76475878, -150.7647803711, -150.7647862049, -150.7647868582] [0.0, -4.940844102692568, -3.356115396345216, -5.103341087320132, -5.0890169508304375, -5.37213143261179, -5.388250541426562, -5.401799021446166, -5.405459748449496, -5.405869696172136]\n"
     ]
    },
    {
     "data": {
      "image/png": "[encoded data removed]",
      "text/plain": [
       "<Figure size 432x288 with 2 Axes>"
      ]
     },
     "metadata": {
      "needs_background": "light"
     },
     "output_type": "display_data"
    }
   ],
   "source": [
    "import matplotlib.pyplot as plt\n",
    "filename = 'examples/h2o2.out'\n",
    "\n",
    "# Opening the file\n",
    "f = open(filename,'r')\n",
    "fread = f.readlines()\n",
    "\n",
    "# search for pattern\n",
    "x = \"FINAL RHF ENERGY IS\"\n",
    "\n",
    "i=0\n",
    "\n",
    "# we first create a collection of lists where we will put our data\n",
    "it = []  # iteration in the optimizations\n",
    "Eh = []  # Energy in Hartrees\n",
    "Ekc = [] # Energy in kcal /mol\n",
    "\n",
    "# now we parse the file line by line looking for a match with variable x. Once we find it, we expand the\n",
    "# three created lists with additional values obtained from the line\n",
    "for line in fread:\n",
    "    if x in line:\n",
    "        it.append(i)\n",
    "        Eh.append(float(line.split()[4]))\n",
    "        Ekc.append((Eh[i]-Eh[0])*627.503) \n",
    "        i += 1\n",
    "print(it,Eh,Ekc)\n",
    "\n",
    "# plot the figures for the values of the energy in Hartrees and kcal/mol upon optimization. We use twinx\n",
    "# to create a second Y axes sharing the same X axis, in order to have the two units refereced in the plot\n",
    "fig, ax1 = plt.subplots()\n",
    "fig.suptitle('Energies upon optimization for file '+filename)\n",
    "\n",
    "ax2 = ax1.twinx()\n",
    "\n",
    "ax1.plot(it,Eh, '-o')\n",
    "ax2.plot(it,Ekc, '-og')\n",
    "\n",
    "ax1.set_xlabel('optimization iterations')\n",
    "ax1.set_ylabel('$E$ / Hartrees')\n",
    "ax2.set_ylabel('$E-E_0$ / kcal $\\cdot$ mol$^{-1}$')\n",
    "\n",
    "plt.show()"
   ]
  },
  {
   "cell_type": "code",
   "execution_count": 4,
   "id": "7ad005d1",
   "metadata": {},
   "outputs": [
    {
     "name": "stdout",
     "output_type": "stream",
     "text": [
      "FINAL RHF ENERGY IS\n",
      "number of atoms is:  4\n"
     ]
    },
    {
     "ename": "NameError",
     "evalue": "name 'newline' is not defined",
     "output_type": "error",
     "traceback": [
      "\u001b[0;31m---------------------------------------------------------------------------\u001b[0m",
      "\u001b[0;31mNameError\u001b[0m                                 Traceback (most recent call last)",
      "\u001b[0;32m/tmp/ipykernel_79017/1807237530.py\u001b[0m in \u001b[0;36m<module>\u001b[0;34m\u001b[0m\n\u001b[1;32m     24\u001b[0m         \u001b[0;31m# jump two lines\u001b[0m\u001b[0;34m\u001b[0m\u001b[0;34m\u001b[0m\u001b[0m\n\u001b[1;32m     25\u001b[0m         \u001b[0;31m#newline=m.readline()\u001b[0m\u001b[0;34m\u001b[0m\u001b[0;34m\u001b[0m\u001b[0m\n\u001b[0;32m---> 26\u001b[0;31m         \u001b[0mprint\u001b[0m\u001b[0;34m(\u001b[0m\u001b[0mnewline\u001b[0m\u001b[0;34m)\u001b[0m\u001b[0;34m\u001b[0m\u001b[0;34m\u001b[0m\u001b[0m\n\u001b[0m\u001b[1;32m     27\u001b[0m         \u001b[0;31m# split the line\u001b[0m\u001b[0;34m\u001b[0m\u001b[0;34m\u001b[0m\u001b[0m\n\u001b[1;32m     28\u001b[0m         \u001b[0mprint\u001b[0m\u001b[0;34m(\u001b[0m\u001b[0mline\u001b[0m\u001b[0;34m.\u001b[0m\u001b[0msplit\u001b[0m\u001b[0;34m(\u001b[0m\u001b[0;34m)\u001b[0m\u001b[0;34m)\u001b[0m\u001b[0;34m\u001b[0m\u001b[0;34m\u001b[0m\u001b[0m\n",
      "\u001b[0;31mNameError\u001b[0m: name 'newline' is not defined"
     ]
    }
   ],
   "source": [
    "\n",
    "filename = 'examples/h2o2.out'\n",
    "\n",
    "m = open(filename,'r')\n",
    "\n",
    "\n",
    "patternx = \"COORDINATES OF ALL ATOMS ARE\"\n",
    "patterny = \"TOTAL NUMBER OF ATOMS \"\n",
    "\n",
    "\n",
    "\n",
    "print(x)\n",
    "\n",
    "i=0\n",
    "\n",
    "atm = []  # atoms\n",
    "charge = []  # charge of atoms\n",
    "xyz = [] # coordinates\n",
    "\n",
    "for line in m.readlines():\n",
    "    if patterny in line:\n",
    "        numbatoms = int(line.split()[5])\n",
    "        print('number of atoms is: ', numbatoms)\n",
    "    if patternx in line:\n",
    "        # jump two lines\n",
    "        #newline=m.readline()\n",
    "        print(newline)\n",
    "        # split the line\n",
    "        print(line.split())\n",
    "        atom=line.split()[0]\n",
    "        x=line.split()[2]\n",
    "        y=line.split()[3]\n",
    "        z=line.split()[4]\n",
    "        print(atom,x,y,z)\n",
    "        \n",
    "        atm.append(i)\n",
    "        charge.append\n",
    "        xyz.append\n",
    "        i += 1\n",
    "print(atm,charge,xyz)"
   ]
  },
  {
   "cell_type": "code",
   "execution_count": null,
   "id": "15a88960",
   "metadata": {},
   "outputs": [
    {
     "name": "stdout",
     "output_type": "stream",
     "text": [
      "<_io.TextIOWrapper name='examples/h2o2.out' mode='r' encoding='UTF-8'>\n"
     ]
    }
   ],
   "source": [
    "import numpy as np\n",
    "with open(\"examples/h2o2.out\", \"r\") as f:\n",
    "        content = []\n",
    "        cartesian = 0\n",
    "        for line in f: \n",
    "            if cartesian >= 2:\n",
    "                content.append(line)\n",
    "            if 'CARTESIAN COORDINATE' in line:\n",
    "                cartesian += 1\n",
    "coords = np.array(content)\n",
    "f.close()\n",
    "print(f)"
   ]
  },
  {
   "cell_type": "code",
   "execution_count": null,
   "id": "8db79911",
   "metadata": {},
   "outputs": [],
   "source": []
  }
 ],
 "metadata": {
  "kernelspec": {
   "display_name": "Python 3",
   "language": "python",
   "name": "python3"
  },
  "language_info": {
   "codemirror_mode": {
    "name": "ipython",
    "version": 3
   },
   "file_extension": ".py",
   "mimetype": "text/x-python",
   "name": "python",
   "nbconvert_exporter": "python",
   "pygments_lexer": "ipython3",
   "version": "3.9.12"
  },
  "vscode": {
   "interpreter": {
    "hash": "916dbcbb3f70747c44a77c7bcd40155683ae19c65e1c03b4aa3499c5328201f1"
   }
  }
 },
 "nbformat": 4,
 "nbformat_minor": 5
}
